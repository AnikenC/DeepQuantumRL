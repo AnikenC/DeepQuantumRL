{
 "cells": [
  {
   "attachments": {},
   "cell_type": "markdown",
   "metadata": {},
   "source": [
    "# Example 1: Reinforcement Learning Training Workflow"
   ]
  },
  {
   "cell_type": "code",
   "execution_count": 1,
   "metadata": {},
   "outputs": [
    {
     "name": "stderr",
     "output_type": "stream",
     "text": [
      "/Users/chatt07/Desktop/new_env/lib/python3.9/site-packages/jaxtyping/__init__.py:210: UserWarning: jaxtyping version >=0.2.23 should be used with Equinox version >=0.11.1\n",
      "  warnings.warn(\n"
     ]
    }
   ],
   "source": [
    "# Importing Packages\n",
    "\n",
    "import numpy as np\n",
    "import matplotlib.pyplot as plt\n",
    "import time\n",
    "\n",
    "import jax\n",
    "import jax.numpy as jnp\n",
    "from jax import jit, vmap, block_until_ready, config\n",
    "\n",
    "from algos.ppo import PPO_make_train"
   ]
  },
  {
   "cell_type": "code",
   "execution_count": 2,
   "metadata": {},
   "outputs": [],
   "source": [
    "# Seeding all Random Number Generation during the RL Training for Reproducibility\n",
    "\n",
    "seed = 30\n",
    "\n",
    "rng = jax.random.PRNGKey(seed)\n",
    "rng, _rng = jax.random.split(rng)"
   ]
  },
  {
   "attachments": {},
   "cell_type": "markdown",
   "metadata": {},
   "source": [
    "## Photon Langevin Env\n",
    "\n",
    "For this notebook, we work on the Photon Langevin Environment, where we are trying to improve Single Qubit Readout of a Superconducting Transmon Qubit. The physical system we deal with is of a Transmon Qubit Dispersively Coupled to a Microwave Cavity, ie a Readout Resonator. Treating the Transmon Qubit as a Non-Linear Quantum Harmonic Oscillator (QHO) and the Readout Resonator as a QHO, we can model the dynamics of the open system under an arbitrary input drive pulse on the resonator using Input-Output Theory and the Quantum Langevin Equation.\n",
    "\n",
    "To simplify simulations and analysis, we use the Coherent Langevin Equations where we assume the Resonator is in a Coherent State, a valid approximation for the regimes labs typically operate in, such as IBM Quantum devices. By solving the differential equations from the Coherent Langevin Equations, we can simulate both the phase and photon population of the Resonator as a function of time. From this we extract figures of merit, such as maximum photon population, maximum fidelity, time to reset the resonator, to pass to our reward function and hence have an overal RL Environment to train on!"
   ]
  },
  {
   "cell_type": "code",
   "execution_count": null,
   "metadata": {},
   "outputs": [],
   "source": [
    "# Defining Cairo Params and RL Params\n",
    "\n",
    "tau_0 = 0.398\n",
    "kappa = 25.0\n",
    "chi = 0.65\n",
    "kerr = 0.002\n",
    "gamma = 1/100\n",
    "time_coeff = 10.0\n",
    "snr_coeff = 10.0\n",
    "rough_max_photons = 31\n",
    "rough_max_amp_scaled = 1/0.43\n",
    "actual_max_photons = rough_max_photons * (1 - jnp.exp(-0.5 * kappa * tau_0))**2\n",
    "print(f\"Rough Max Photons: {rough_max_photons}\")\n",
    "print(f\"Actual Max Photons: {actual_max_photons}\")\n",
    "ideal_photon = 1e-2\n",
    "scaling_factor = 7.5\n",
    "gamma_I = 1/500\n",
    "num_t1 = 8.0\n",
    "photon_gamma = 1/2000\n",
    "init_fid = 1 - 1e-3\n",
    "\n",
    "batchsize = 64\n",
    "num_envs = 8\n",
    "num_updates = 2500\n",
    "config = {\n",
    "    \"LR\": 3e-3,\n",
    "    \"NUM_ENVS\": num_envs,\n",
    "    \"NUM_STEPS\": batchsize,\n",
    "    \"NUM_UPDATES\": num_updates,\n",
    "    \"UPDATE_EPOCHS\": 4,\n",
    "    \"NUM_MINIBATCHES\": int(batchsize * num_envs / 64),\n",
    "    \"CLIP_EPS\": 0.2,\n",
    "    \"VALUE_CLIP_EPS\": 0.2,\n",
    "    \"ENT_COEF\": 0.0,\n",
    "    \"VF_COEF\": 0.5,\n",
    "    \"MAX_GRAD_NORM\": 0.5,\n",
    "    \"ACTIVATION\": \"relu6\",\n",
    "    \"LAYER_SIZE\": 256,\n",
    "    \"ENV_NAME\": \"photon_langevin_readout_env\",\n",
    "    \"ANNEAL_LR\": False,\n",
    "    \"DEBUG\": True,\n",
    "    \"DEBUG_ACTION\": False,\n",
    "    \"PRINT_RATE\": 100,\n",
    "    \"ACTION_PRINT_RATE\": 100,\n",
    "}"
   ]
  }
 ],
 "metadata": {
  "kernelspec": {
   "display_name": "new_env",
   "language": "python",
   "name": "python3"
  },
  "language_info": {
   "codemirror_mode": {
    "name": "ipython",
    "version": 3
   },
   "file_extension": ".py",
   "mimetype": "text/x-python",
   "name": "python",
   "nbconvert_exporter": "python",
   "pygments_lexer": "ipython3",
   "version": "3.9.11"
  },
  "orig_nbformat": 4
 },
 "nbformat": 4,
 "nbformat_minor": 2
}
